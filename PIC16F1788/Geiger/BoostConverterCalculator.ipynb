{
 "cells": [
  {
   "cell_type": "code",
   "execution_count": 1,
   "id": "6b276aac",
   "metadata": {},
   "outputs": [],
   "source": [
    "import numpy as np"
   ]
  },
  {
   "cell_type": "code",
   "execution_count": 7,
   "id": "aaae8db2",
   "metadata": {},
   "outputs": [
    {
     "name": "stdout",
     "output_type": "stream",
     "text": [
      "Icri = (1/2Lf)Vi^2/Vo^2(Vo-Vi) = 1.1519281914893615 mA\n",
      "\n",
      "The boost converter is in discontinuous mode.\n",
      "Vi: 5 V\n",
      "Vo: 500 V\n",
      "Duty cycle = 1/Vin*sqrt(2*Iout*(Vout-Vin)*Lf)= 0.292\n",
      "Iout: 0.1 mA\n",
      "Imax=sqrt(2*Iout*(Vout-Vin)/(Lf))= 67.88 mA\n",
      "Vout ripple: 0.00319 V ( 0.000638 % )\n"
     ]
    }
   ],
   "source": [
    "# Assuming continuous operation.\n",
    "\n",
    "# input and output voltage in V\n",
    "Vin = 5\n",
    "Vout = 500\n",
    "\n",
    "# output current in A\n",
    "Iout = Vout/5e6\n",
    "\n",
    "# frequency of operation in Hz\n",
    "f = 64 * 1e3\n",
    "f = 32e6/700\n",
    "    # in MCU digital period counter notation\n",
    "\n",
    "# inductance in H\n",
    "L = 470 * 1e-6\n",
    "\n",
    "# output capacitor in F\n",
    "C = 2 * 0.1 * 1e-6\n",
    "\n",
    "# dutycycle\n",
    "duty_cycle = 1 - Vin/Vout\n",
    "\n",
    "# average input current\n",
    "Iin = 1 / (1-duty_cycle) * Iout\n",
    "\n",
    "# period\n",
    "t = 1/f\n",
    "\n",
    "# input ripple current, V = L dI/dt\n",
    "Iripple = Vin/L * duty_cycle * t\n",
    "\n",
    "# output ripple voltage\n",
    "Vripple = Iout * duty_cycle * t / C\n",
    "\n",
    "print(\"Icri = (1/2Lf)Vi^2/Vo^2(Vo-Vi) =\", 1000*0.5/(f*L)*(Vin/Vout)**2*(Vout-Vin), \"mA\" )\n",
    "print(\"\")\n",
    "\n",
    "if Iin-Iripple/2 > 0 :\n",
    "    print(\"The boost converter is in continuous mode.\")\n",
    "    print(\"Vi:\", round(Vin,2), 'V')\n",
    "    print(\"Vo:\", round(Vout,2), 'V')\n",
    "    print(\"Duty cycle:\", round(duty_cycle,3) )\n",
    "    print(\"\")\n",
    "    print(\"L:\", round(L*1e6,2), 'uH')\n",
    "    print(\"C:\", round(C*1e6,2), 'uF')\n",
    "    print(\"\")\n",
    "    print(\"Iout:\", round(Iout * 1000,2), 'mA')\n",
    "    print(\"Iavg:\", round(Iin * 1000,2), 'mA')\n",
    "    print(\"Imin:\", round(1000*(Iin-Iripple/2),2), 'mA')\n",
    "    print(\"Imax:\", round(1000*(Iin+Iripple/2),2), 'mA')\n",
    "    print(\"Irip:\", round(100*Iripple/Iin,2), '%')\n",
    "    print(\"\")\n",
    "    print(\"Vout ripple:\", round(Vripple,5), 'V', '(',round(100*Vripple/Vout,5),'% )' )\n",
    "\n",
    "else:\n",
    "    print(\"The boost converter is in discontinuous mode.\")\n",
    "    \n",
    "    duty_cycle = 1/Vin * np.sqrt( 2 * Iout * (Vout-Vin)*L/t)\n",
    "    \n",
    "    tx = Vin/(Vout-Vin) * duty_cycle * t\n",
    "    \n",
    "    Imax = Vin * duty_cycle * t/L\n",
    "    \n",
    "    Vripple = Iout * duty_cycle * t / C\n",
    "    \n",
    "    print(\"Vi:\", round(Vin,2), 'V')\n",
    "    print(\"Vo:\", round(Vout,2), 'V')\n",
    "    print(\"Duty cycle = 1/Vin*sqrt(2*Iout*(Vout-Vin)*Lf)=\", round(duty_cycle,3) )\n",
    "    \n",
    "    print(\"Iout:\", round(1000*Iout,3), 'mA')\n",
    "    print(\"Imax=sqrt(2*Iout*(Vout-Vin)/(Lf))=\", round(1000*Imax,3), 'mA' )\n",
    "    \n",
    "    print(\"Vout ripple:\", round(Vripple,6), 'V', '(',round(100*Vripple/Vout,6),'% )' )\n"
   ]
  },
  {
   "cell_type": "code",
   "execution_count": null,
   "id": "f8762c1c",
   "metadata": {},
   "outputs": [],
   "source": []
  },
  {
   "cell_type": "code",
   "execution_count": null,
   "id": "965f5450",
   "metadata": {},
   "outputs": [],
   "source": []
  }
 ],
 "metadata": {
  "kernelspec": {
   "display_name": "Python 3 (ipykernel)",
   "language": "python",
   "name": "python3"
  },
  "language_info": {
   "codemirror_mode": {
    "name": "ipython",
    "version": 3
   },
   "file_extension": ".py",
   "mimetype": "text/x-python",
   "name": "python",
   "nbconvert_exporter": "python",
   "pygments_lexer": "ipython3",
   "version": "3.8.10"
  }
 },
 "nbformat": 4,
 "nbformat_minor": 5
}

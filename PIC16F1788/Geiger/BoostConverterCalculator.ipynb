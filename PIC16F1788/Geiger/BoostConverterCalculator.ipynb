{
 "cells": [
  {
   "cell_type": "code",
   "execution_count": 2,
   "id": "6b276aac",
   "metadata": {},
   "outputs": [],
   "source": [
    "import numpy as np"
   ]
  },
  {
   "cell_type": "code",
   "execution_count": 8,
   "id": "aaae8db2",
   "metadata": {},
   "outputs": [
    {
     "name": "stdout",
     "output_type": "stream",
     "text": [
      "The boost converter is in continuous mode.\n",
      "Vi: 5 V\n",
      "Vo: 500 V\n",
      "Duty cycle: 0.99\n",
      "\n",
      "L: 330.0 uH\n",
      "C: 0.2 uF\n",
      "\n",
      "Iout: 1.0 mA\n",
      "Iavg: 100.0 mA\n",
      "Imin: 25.0 mA\n",
      "Imax: 175.0 mA\n",
      "Irip: 150.0 %\n",
      "\n",
      "Vout ripple: 0.0495 V ( 0.0099 % )\n"
     ]
    }
   ],
   "source": [
    "# Assuming continuous operation.\n",
    "\n",
    "# input and output voltage in V\n",
    "Vin = 5\n",
    "Vout = 500\n",
    "\n",
    "# output current in A\n",
    "Iout = 500/5e5\n",
    "\n",
    "# frequency of operation in Hz\n",
    "f = 100 * 1e3\n",
    "\n",
    "# inductance in H\n",
    "L = 330 * 1e-6\n",
    "\n",
    "# output capacitor in F\n",
    "C = 2 * 0.1 * 1e-6\n",
    "\n",
    "# dutycycle\n",
    "duty_cycle = 1 - Vin/Vout\n",
    "# average input current\n",
    "Iin = 1 / (1-duty_cycle) * Iout\n",
    "# period\n",
    "t = 1/f\n",
    "# input ripple current, V = L dI/dt\n",
    "Iripple = Vin/L * duty_cycle * t\n",
    "\n",
    "# output ripple voltage\n",
    "Vripple = Iout * duty_cycle * t / C\n",
    "\n",
    "if Iin-Iripple/2 > 0 :\n",
    "    print(\"The boost converter is in continuous mode.\")\n",
    "    print(\"Vi:\", round(Vin,2), 'V')\n",
    "    print(\"Vo:\", round(Vout,2), 'V')\n",
    "    print(\"Duty cycle:\", round(duty_cycle,3) )\n",
    "    print(\"\")\n",
    "    print(\"L:\", round(L*1e6,2), 'uH')\n",
    "    print(\"C:\", round(C*1e6,2), 'uF')\n",
    "    print(\"\")\n",
    "    print(\"Iout:\", round(Iout * 1000,2), 'mA')\n",
    "    print(\"Iavg:\", round(Iin * 1000,2), 'mA')\n",
    "    print(\"Imin:\", round(1000*(Iin-Iripple/2),2), 'mA')\n",
    "    print(\"Imax:\", round(1000*(Iin+Iripple/2),2), 'mA')\n",
    "    print(\"Irip:\", round(100*Iripple/Iin,2), '%')\n",
    "    print(\"\")\n",
    "    print(\"Vout ripple:\", round(Vripple,5), 'V', '(',round(100*Vripple/Vout,5),'% )' )\n",
    "\n",
    "else:\n",
    "    print(\"The boost converter is in discontinuous mode.\")\n",
    "    \n",
    "    duty_cycle = 1/Vin * np.sqrt( 2 * Iout * (Vout-Vin)*L/t)\n",
    "    \n",
    "    tx = Vin/(Vout-Vin) * duty_cycle * t\n",
    "    \n",
    "    Imax = Vin * duty_cycle * t/L\n",
    "    \n",
    "    Vripple = Iout * duty_cycle * t / C\n",
    "    \n",
    "    print(\"Vi:\", round(Vin,2), 'V')\n",
    "    print(\"Vo:\", round(Vout,2), 'V')\n",
    "    print(\"Duty cycle:\", round(duty_cycle,3) )\n",
    "    \n",
    "    print(\"Iout:\", round(1000*Iout,3), 'mA')\n",
    "    print(\"Imax:\", round(1000*Imax,3), 'mA' )\n",
    "    \n",
    "    print(\"Vout ripple:\", round(Vripple,6), 'V', '(',round(100*Vripple/Vout,6),'% )' )\n"
   ]
  },
  {
   "cell_type": "code",
   "execution_count": null,
   "id": "f8762c1c",
   "metadata": {},
   "outputs": [],
   "source": []
  }
 ],
 "metadata": {
  "kernelspec": {
   "display_name": "Python 3 (ipykernel)",
   "language": "python",
   "name": "python3"
  },
  "language_info": {
   "codemirror_mode": {
    "name": "ipython",
    "version": 3
   },
   "file_extension": ".py",
   "mimetype": "text/x-python",
   "name": "python",
   "nbconvert_exporter": "python",
   "pygments_lexer": "ipython3",
   "version": "3.8.10"
  }
 },
 "nbformat": 4,
 "nbformat_minor": 5
}

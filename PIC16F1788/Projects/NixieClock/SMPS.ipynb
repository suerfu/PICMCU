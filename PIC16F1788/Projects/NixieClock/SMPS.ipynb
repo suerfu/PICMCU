{
 "cells": [
  {
   "cell_type": "code",
   "execution_count": 1,
   "id": "6b276aac",
   "metadata": {},
   "outputs": [],
   "source": [
    "import numpy as np\n",
    "import matplotlib.pyplot as plt"
   ]
  },
  {
   "cell_type": "code",
   "execution_count": 5,
   "id": "aaae8db2",
   "metadata": {},
   "outputs": [
    {
     "name": "stdout",
     "output_type": "stream",
     "text": [
      "Icri = (1/2Lf)Vi^2/Vo^2(Vo-Vi) = 1.1280000000000001 mA\n",
      "\n",
      "The boost converter is in continuous mode.\n",
      "Vi: 12 V\n",
      "Vo: 200 V\n",
      "Duty cycle: 0.94\n",
      "\n",
      "L: 1000.0 uH\n",
      "C: 0.2 uF\n",
      "\n",
      "Iout: 40.0 mA\n",
      "Iavg: 666.67 mA\n",
      "Imin: 647.87 mA\n",
      "Imax: 685.47 mA\n",
      "Irip: 5.64 %\n",
      "\n",
      "Vout ripple: 0.62667 V ( 0.31333 % )\n"
     ]
    }
   ],
   "source": [
    "# Assuming continuous operation.\n",
    "\n",
    "# input and output voltage in V\n",
    "Vin = 12\n",
    "Vout = 200\n",
    "\n",
    "# output current in A\n",
    "Iout = 40e-3\n",
    "\n",
    "# frequency of operation in Hz, using MAX1771\n",
    "f = 300 * 1e3\n",
    "\n",
    "# inductance in H\n",
    "L = 1000 * 1e-6\n",
    "\n",
    "# output capacitor in F\n",
    "C = 2 * 0.1 * 1e-6\n",
    "\n",
    "# dutycycle\n",
    "duty_cycle = 1 - Vin/Vout\n",
    "\n",
    "# average input current\n",
    "Iin = 1 / (1-duty_cycle) * Iout\n",
    "\n",
    "# period\n",
    "t = 1/f\n",
    "\n",
    "# input ripple current, V = L dI/dt\n",
    "Iripple = Vin/L * duty_cycle * t\n",
    "\n",
    "# output ripple voltage\n",
    "Vripple = Iout * duty_cycle * t / C\n",
    "\n",
    "print(\"Icri = (1/2Lf)Vi^2/Vo^2(Vo-Vi) =\", 1000*0.5/(f*L)*(Vin/Vout)**2*(Vout-Vin), \"mA\" )\n",
    "print(\"\")\n",
    "\n",
    "if Iin-Iripple/2 > 0 :\n",
    "    print(\"The boost converter is in continuous mode.\")\n",
    "    print(\"Vi:\", round(Vin,2), 'V')\n",
    "    print(\"Vo:\", round(Vout,2), 'V')\n",
    "    print(\"Duty cycle:\", round(duty_cycle,3) )\n",
    "    print(\"\")\n",
    "    print(\"L:\", round(L*1e6,2), 'uH')\n",
    "    print(\"C:\", round(C*1e6,2), 'uF')\n",
    "    print(\"\")\n",
    "    print(\"Iout:\", round(Iout * 1000,2), 'mA')\n",
    "    print(\"Iavg:\", round(Iin * 1000,2), 'mA')\n",
    "    print(\"Imin:\", round(1000*(Iin-Iripple/2),2), 'mA')\n",
    "    print(\"Imax:\", round(1000*(Iin+Iripple/2),2), 'mA')\n",
    "    print(\"Irip:\", round(100*Iripple/Iin,2), '%')\n",
    "    print(\"\")\n",
    "    print(\"Vout ripple:\", round(Vripple,5), 'V', '(',round(100*Vripple/Vout,5),'% )' )\n",
    "\n",
    "else:\n",
    "    print(\"The boost converter is in discontinuous mode.\")\n",
    "    \n",
    "    duty_cycle = 1/Vin * np.sqrt( 2 * Iout * (Vout-Vin)*L/t)\n",
    "    \n",
    "    tx = Vin/(Vout-Vin) * duty_cycle * t\n",
    "    \n",
    "    Imax = Vin * duty_cycle * t/L\n",
    "    \n",
    "    Vripple = Iout * duty_cycle * t / C\n",
    "    \n",
    "    print(\"Vi:\", round(Vin,2), 'V')\n",
    "    print(\"Vo:\", round(Vout,2), 'V')\n",
    "    print(\"Duty cycle = 1/Vin*sqrt(2*Iout*(Vout-Vin)*Lf)=\", round(duty_cycle,3) )\n",
    "    \n",
    "    print(\"Iout:\", round(1000*Iout,3), 'mA')\n",
    "    print(\"Imax=sqrt(2*Iout*(Vout-Vin)/(Lf))=\", round(1000*Imax,3), 'mA' )\n",
    "    \n",
    "    print(\"Vout ripple:\", round(Vripple,6), 'V', '(',round(100*Vripple/Vout,6),'% )' )\n"
   ]
  },
  {
   "cell_type": "code",
   "execution_count": 22,
   "id": "f8762c1c",
   "metadata": {},
   "outputs": [
    {
     "data": {
      "text/plain": [
       "[<matplotlib.lines.Line2D at 0x7ff8e4066eb0>]"
      ]
     },
     "execution_count": 22,
     "metadata": {},
     "output_type": "execute_result"
    },
    {
     "data": {
      "image/png": "[encoded data removed]",
      "text/plain": [
       "<Figure size 432x288 with 1 Axes>"
      ]
     },
     "metadata": {
      "needs_background": "light"
     },
     "output_type": "display_data"
    },
    {
     "data": {
      "image/png": "[encoded data removed]",
      "text/plain": [
       "<Figure size 432x288 with 1 Axes>"
      ]
     },
     "metadata": {
      "needs_background": "light"
     },
     "output_type": "display_data"
    }
   ],
   "source": [
    "# Assuming discontinuous operation.\n",
    "\n",
    "# input voltage in V\n",
    "Vin = 5\n",
    "\n",
    "# Assume purely resistive load\n",
    "R = 2.e6\n",
    "\n",
    "# frequency of operation in Hz\n",
    "f = 32e6/700\n",
    "    # in MCU digital period counter notation\n",
    "\n",
    "# inductance in H\n",
    "L = 470 * 1e-6\n",
    "\n",
    "# duty cycle\n",
    "duty_cycle = np.linspace( 0, 0.8, 100 )\n",
    "\n",
    "# Compute output voltage\n",
    "Vout = Vin/2 * (1 + np.sqrt( 1+2*duty_cycle*duty_cycle*R/(L*f) ) )\n",
    "\n",
    "Vtarget = 500*np.ones( len(duty_cycle) )\n",
    "\n",
    "# output current in A\n",
    "Imax = Vin * duty_cycle * t/L\n",
    "\n",
    "plt.figure()\n",
    "plt.plot( duty_cycle, Vout )\n",
    "plt.plot( duty_cycle, Vtarget )\n",
    "\n",
    "plt.figure()\n",
    "plt.plot( duty_cycle, Imax )"
   ]
  },
  {
   "cell_type": "code",
   "execution_count": null,
   "id": "965f5450",
   "metadata": {},
   "outputs": [],
   "source": []
  }
 ],
 "metadata": {
  "kernelspec": {
   "display_name": "Python 3 (ipykernel)",
   "language": "python",
   "name": "python3"
  },
  "language_info": {
   "codemirror_mode": {
    "name": "ipython",
    "version": 3
   },
   "file_extension": ".py",
   "mimetype": "text/x-python",
   "name": "python",
   "nbconvert_exporter": "python",
   "pygments_lexer": "ipython3",
   "version": "3.8.10"
  }
 },
 "nbformat": 4,
 "nbformat_minor": 5
}
